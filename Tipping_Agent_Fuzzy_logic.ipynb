{
  "nbformat": 4,
  "nbformat_minor": 0,
  "metadata": {
    "colab": {
      "provenance": [],
      "authorship_tag": "ABX9TyO791BXY5SgEKbspgh5mL4F",
      "include_colab_link": true
    },
    "kernelspec": {
      "name": "python3",
      "display_name": "Python 3"
    },
    "language_info": {
      "name": "python"
    }
  },
  "cells": [
    {
      "cell_type": "markdown",
      "metadata": {
        "id": "view-in-github",
        "colab_type": "text"
      },
      "source": [
        "<a href=\"https://colab.research.google.com/github/THISARA005/Tipping-Asistent/blob/main/Tipping_Agent_Fuzzy_logic.ipynb\" target=\"_parent\"><img src=\"https://colab.research.google.com/assets/colab-badge.svg\" alt=\"Open In Colab\"/></a>"
      ]
    },
    {
      "cell_type": "markdown",
      "source": [
        "The command !pip install -U scikit-fuzzy is used in Colab Python to install or upgrade the scikit-fuzzy library."
      ],
      "metadata": {
        "id": "Yfg1qz4rcFQ-"
      }
    },
    {
      "cell_type": "code",
      "execution_count": null,
      "metadata": {
        "colab": {
          "base_uri": "https://localhost:8080/"
        },
        "id": "c3RmSIxBb-DO",
        "outputId": "7265be6c-5ac0-4066-e3b4-24d621004708"
      },
      "outputs": [
        {
          "output_type": "stream",
          "name": "stdout",
          "text": [
            "Looking in indexes: https://pypi.org/simple, https://us-python.pkg.dev/colab-wheels/public/simple/\n",
            "Requirement already satisfied: scikit-fuzzy in /usr/local/lib/python3.8/dist-packages (0.4.2)\n",
            "Requirement already satisfied: scipy>=0.9.0 in /usr/local/lib/python3.8/dist-packages (from scikit-fuzzy) (1.7.3)\n",
            "Requirement already satisfied: networkx>=1.9.0 in /usr/local/lib/python3.8/dist-packages (from scikit-fuzzy) (3.0)\n",
            "Requirement already satisfied: numpy>=1.6.0 in /usr/local/lib/python3.8/dist-packages (from scikit-fuzzy) (1.21.6)\n"
          ]
        }
      ],
      "source": [
        "!pip install -U scikit-fuzzy"
      ]
    },
    {
      "cell_type": "markdown",
      "source": [
        "The skfuzzy library provides a wide range of tools for fuzzy logic, including functions for defining membership functions, operators for combining fuzzy sets, and algorithms for fuzzy inference. It can be used in a variety of applications, including control systems, decision-making, and data analysis."
      ],
      "metadata": {
        "id": "EOFNeRTwcCxS"
      }
    },
    {
      "cell_type": "code",
      "source": [
        "#import the numpy and skfuzzy.\n",
        "import numpy as np\n",
        "\n",
        "import skfuzzy as fuzz\n",
        "from skfuzzy import control as ctrl"
      ],
      "metadata": {
        "id": "sqy-EjArcRiY"
      },
      "execution_count": null,
      "outputs": []
    },
    {
      "cell_type": "markdown",
      "source": [
        "In here we creates an antecedent named \"service_quality\" and food_quality using the ctrl.Antecedent function from the skfuzzy library. The antecedent is a fuzzy logic variable that represents the input(quality of service and quality of food)  to a tipping agent fuzzy system.This will take crisp inputs from the user 0-10."
      ],
      "metadata": {
        "id": "KIeURcIVcewl"
      }
    },
    {
      "cell_type": "code",
      "source": [
        "# crisp input range\n",
        "service_quality = ctrl.Antecedent(np.arange(0, 11, 1), 'service_quality')\n",
        "food_quality = ctrl.Antecedent(np.arange(0, 11, 1), 'food_quality')"
      ],
      "metadata": {
        "id": "e4Svw4FTh0k2"
      },
      "execution_count": null,
      "outputs": []
    },
    {
      "cell_type": "markdown",
      "source": [
        "In here we creates a consequent named \"tip\" using the ctrl.Consequent function from the skfuzzy library. The consequent is a fuzzy logic variable that represents the output(tipping percentage) of a tipping agent fuzzy system.This will gives the crisp output from 0-25 percent tipping percentage."
      ],
      "metadata": {
        "id": "ISC80KxHjQFB"
      }
    },
    {
      "cell_type": "code",
      "source": [
        "# crisp output range\n",
        "tip = ctrl.Consequent(np.arange(0, 26, 1), 'tip')"
      ],
      "metadata": {
        "id": "n8UCwab0jsrG"
      },
      "execution_count": null,
      "outputs": []
    },
    {
      "cell_type": "markdown",
      "source": [
        "In here we define the membership functions for the acording to the fuzzy sets of the inputs and outputs.These are rough values we include as the mebership functions.Acording to the poor,average,high fuzzy sets, membership value gets different for the input."
      ],
      "metadata": {
        "id": "Ajz0RaGekBv0"
      }
    },
    {
      "cell_type": "code",
      "source": [
        "# Membership function for the quality of service.\n",
        "service_quality['poor'] = fuzz.trimf(service_quality.universe, [0, 0, 6])\n",
        "service_quality['average'] = fuzz.trimf(service_quality.universe, [2, 5, 7])\n",
        "service_quality['high'] = fuzz.trimf(service_quality.universe, [4, 10, 10])\n",
        "\n",
        "\n",
        "# Membership function for the quality of food.\n",
        "food_quality['bad'] = fuzz.trimf(food_quality.universe, [0, 0, 5])\n",
        "food_quality['average'] = fuzz.trimf(food_quality.universe, [1, 6, 8])\n",
        "food_quality['delecious'] = fuzz.trimf(food_quality.universe, [5, 9, 10])\n",
        "\n",
        "# Membership function for the tip.\n",
        "tip['low'] = fuzz.trimf(tip.universe, [0, 0, 8])\n",
        "tip['average'] = fuzz.trimf(tip.universe, [6, 11, 17])\n",
        "tip['high'] = fuzz.trimf(tip.universe, [15, 25, 25])\n",
        "\n",
        "\n"
      ],
      "metadata": {
        "id": "1KgJ23yAkCQY"
      },
      "execution_count": null,
      "outputs": []
    },
    {
      "cell_type": "markdown",
      "source": [
        "After decide the membership functions we need to define the rules for the inference. In here we cereate 3 rules\n",
        "(Q.S=quality of service . Q.F=quality of food)\n",
        "\n",
        "01.If Q.S is high or Q.F is delecious then tip is high.\n",
        "\n",
        "02.If Q.S is average and Q.F is delecious then tip is average.\n",
        "\n",
        "03.If Q.S is poor and Q.F is bad then tip is low."
      ],
      "metadata": {
        "id": "xQHxj5zun5Fg"
      }
    },
    {
      "cell_type": "code",
      "source": [
        "# Define the rules\n",
        "rule01 = ctrl.Rule(service_quality['high'] | food_quality['delecious'], tip['high'])\n",
        "rule02 = ctrl.Rule(service_quality['average'] & food_quality['delecious'] , tip['average'])\n",
        "rule03 = ctrl.Rule(service_quality['poor'] & food_quality['bad'], tip['low'])"
      ],
      "metadata": {
        "id": "rBbg1ZyIn54X"
      },
      "execution_count": null,
      "outputs": []
    },
    {
      "cell_type": "markdown",
      "source": [
        "After define the rules we need to get the membership values of the each input acording to the rule.If the rule includes union then we choose the maximum membership(inference) values from inuts and acording to that value we select the relevent tipping value from the tipping membership function(Defuzzification). we do that this pattern into all three rules and get the 3 tipping values.  "
      ],
      "metadata": {
        "id": "HgrYonhUsadd"
      }
    },
    {
      "cell_type": "code",
      "source": [
        "# Create the control system\n",
        "tipping_ctrl = ctrl.ControlSystem([rule01, rule02, rule03])\n",
        "\n",
        "# Create a simulation to use the control system\n",
        "tipping = ctrl.ControlSystemSimulation(tipping_ctrl)"
      ],
      "metadata": {
        "id": "qc4ycKl4sawK"
      },
      "execution_count": null,
      "outputs": []
    },
    {
      "cell_type": "markdown",
      "source": [
        "Set the inputs for the quality of the food and qulity of the service as 9 and 1."
      ],
      "metadata": {
        "id": "ve5GGkPyulVG"
      }
    },
    {
      "cell_type": "code",
      "source": [
        "# Get the input values from the user\n",
        "while True:\n",
        "    try:\n",
        "        sq = float(input(\"Please enter the service quality (0-10): \"))\n",
        "        fq = float(input(\"Please enter the food quality (0-10): \"))\n",
        "        if 0 <= sq <= 10 and 0 <= fq <= 10:\n",
        "            break\n",
        "        else:\n",
        "            print(\"Invalid input! Please enter values between 0 and 10.\")\n",
        "    except ValueError:\n",
        "        print(\"Invalid input! Please enter a number.\")\n",
        "\n",
        "# Set the input values\n",
        "tipping.input['service_quality'] = sq\n",
        "tipping.input['food_quality'] = fq\n"
      ],
      "metadata": {
        "colab": {
          "base_uri": "https://localhost:8080/"
        },
        "id": "mg1l-8-zuliv",
        "outputId": "97be506c-279f-44e0-a8c8-11487a25b86c"
      },
      "execution_count": null,
      "outputs": [
        {
          "name": "stdout",
          "output_type": "stream",
          "text": [
            "Please enter the service quality (0-10): 4\n",
            "Please enter the food quality (0-10): 5\n"
          ]
        }
      ]
    },
    {
      "cell_type": "markdown",
      "source": [
        "After we get different output values for the rules we calculate those values to get the fair value as the tip."
      ],
      "metadata": {
        "id": "opoUSAhKuz-k"
      }
    },
    {
      "cell_type": "code",
      "source": [
        "# Compute the output\n",
        "tipping.compute()"
      ],
      "metadata": {
        "id": "tMfAhXh0u0Si"
      },
      "execution_count": null,
      "outputs": []
    },
    {
      "cell_type": "markdown",
      "source": [
        "Get the crisp output(Tip value) and print it as a percentage."
      ],
      "metadata": {
        "id": "yFeFixyOvCJg"
      }
    },
    {
      "cell_type": "code",
      "source": [
        "# Get the crisp value of the tip\n",
        "tip_crisp = tipping.output['tip']\n",
        "\n",
        "print(\"The suggested tip is:\", tip_crisp, \"%\")"
      ],
      "metadata": {
        "colab": {
          "base_uri": "https://localhost:8080/"
        },
        "id": "uaDiUu3-vCZS",
        "outputId": "effe7c42-ae24-481a-b382-188a9dfc369e"
      },
      "execution_count": null,
      "outputs": [
        {
          "output_type": "stream",
          "name": "stdout",
          "text": [
            "The suggested tip is: 21.66666666666666 %\n"
          ]
        }
      ]
    },
    {
      "cell_type": "markdown",
      "source": [
        "**Here is the complete code for the tiping agent system develop by using fuzzy logic.**"
      ],
      "metadata": {
        "id": "1IgtR-JuxZqm"
      }
    },
    {
      "cell_type": "code",
      "source": [
        "!pip install -U scikit-fuzzy\n",
        "import numpy as np\n",
        "import skfuzzy as fuzz\n",
        "from skfuzzy import control as ctrl\n",
        "\n",
        "# Antecedents\n",
        "service_quality = ctrl.Antecedent(np.arange(0, 11, 1), 'service_quality')\n",
        "food_quality = ctrl.Antecedent(np.arange(0, 11, 1), 'food_quality')\n",
        "\n",
        "# Consequents\n",
        "tip = ctrl.Consequent(np.arange(0, 26, 1), 'tip')\n",
        "\n",
        "# Fuzzy sets for the antecedents\n",
        "service_quality['poor'] = fuzz.trimf(service_quality.universe, [0, 0, 6])\n",
        "service_quality['average'] = fuzz.trimf(service_quality.universe, [2, 5, 7])\n",
        "service_quality['excellent'] = fuzz.trimf(service_quality.universe, [4, 10, 10])\n",
        "\n",
        "food_quality['bad'] = fuzz.trimf(food_quality.universe, [0, 0, 5])\n",
        "food_quality['average'] = fuzz.trimf(food_quality.universe, [1, 6, 8])\n",
        "food_quality['delicious'] = fuzz.trimf(food_quality.universe, [5, 9, 10])\n",
        "\n",
        "# Fuzzy sets for the consequents\n",
        "tip['low'] = fuzz.trimf(tip.universe, [0, 0, 8])\n",
        "tip['average'] = fuzz.trimf(tip.universe, [6, 11, 17])\n",
        "tip['high'] = fuzz.trimf(tip.universe, [15, 25, 25])\n",
        "\n",
        "# Define the fuzzy rules\n",
        "rule01 = ctrl.Rule(service_quality['excellent'] | food_quality['delicious'], tip['high'])\n",
        "rule02 = ctrl.Rule(service_quality['average'] & food_quality['average'], tip['average'])\n",
        "rule03 = ctrl.Rule(service_quality['poor'] & food_quality['bad'], tip['low'])\n",
        "\n",
        "# Create the control system\n",
        "tipping_ctrl = ctrl.ControlSystem([rule01, rule02, rule03])\n",
        "\n",
        "# Create a simulation to use the control system\n",
        "tipping = ctrl.ControlSystemSimulation(tipping_ctrl)\n",
        "\n",
        "# Get the input values from the user\n",
        "while True:\n",
        "    try:\n",
        "        sq = float(input(\"Please enter the service quality (0-10): \"))\n",
        "        fq = float(input(\"Please enter the food quality (0-10): \"))\n",
        "        if 0 <= sq <= 10 and 0 <= fq <= 10:\n",
        "            break\n",
        "        else:\n",
        "            print(\"Invalid input! Please enter values between 0 and 10.\")\n",
        "    except ValueError:\n",
        "        print(\"Invalid input! Please enter a number.\")\n",
        "\n",
        "# Set the input values\n",
        "tipping.input['service_quality'] = sq\n",
        "tipping.input['food_quality'] = fq\n",
        "\n",
        "# Compute the output\n",
        "tipping.compute()\n",
        "\n",
        "# Get the crisp value of the tip\n",
        "tip_crisp = tipping.output['tip']\n",
        "\n",
        "print(\"The suggested tip is:\", tip_crisp, \"%\")\n"
      ],
      "metadata": {
        "colab": {
          "base_uri": "https://localhost:8080/"
        },
        "id": "jYHidM37xl47",
        "outputId": "eb2e41be-ab97-4e3b-d22f-9e031979782e"
      },
      "execution_count": null,
      "outputs": [
        {
          "output_type": "stream",
          "name": "stdout",
          "text": [
            "Please enter the service quality (0-10): 7\n",
            "Please enter the food quality (0-10): 8\n",
            "The suggested tip is: 21.5 %\n"
          ]
        }
      ]
    }
  ]
}